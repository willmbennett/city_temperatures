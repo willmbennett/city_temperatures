{
 "cells": [
  {
   "cell_type": "markdown",
   "metadata": {},
   "source": [
    "\n",
    "## City Temperatures Practice Analysis\n",
    "\n",
    "### Will Bennett 3/24/2023\n",
    "\n",
    "Basic analysis of city temperatures over time. Data source is [Kaggle](https://www.kaggle.com/datasets/sudalairajkumar/daily-temperature-of-major-cities).\n",
    "\n",
    "From the source:\n",
    "> **Context**\n",
    "Global warming is the ongoing rise of the average temperature of the Earth's climate system and has been demonstrated by direct temperature measurements and by measurements of various effects of the warming - Wikipedia\n",
    ">\n",
    "> So a dataset on the temperature of major cities of the world will help analyze the same. Also weather information is helpful for a lot of data science tasks like sales forecasting, logistics etc.\n",
    ">\n",
    "> Thanks to University of Dayton, the dataset is available as separate txt files for each city [here](http://academic.udayton.edu/kissock/http/Weather/default.htm). The data is available for research and non-commercial purposes only.. Please refer to [this page](http://academic.udayton.edu/kissock/http/Weather/default.htm) for license."
   ]
  },
  {
   "cell_type": "code",
   "execution_count": 2,
   "metadata": {},
   "outputs": [],
   "source": [
    "# Import libraries\n",
    "import pandas as pd\n",
    "import numpy as np\n",
    "from scipy import stats as st"
   ]
  },
  {
   "cell_type": "code",
   "execution_count": 3,
   "metadata": {},
   "outputs": [],
   "source": [
    "# Use seaborn for visuals\n",
    "import seaborn as sns\n",
    "%matplotlib inline\n",
    "# Apply the default theme\n",
    "sns.set_theme()\n",
    "# Make the visuals bigger, I need it\n",
    "sns.set(rc={'figure.figsize':(11.7,8.27)})"
   ]
  },
  {
   "cell_type": "code",
   "execution_count": 4,
   "metadata": {},
   "outputs": [
    {
     "data": {
      "text/html": [
       "<div>\n",
       "<style scoped>\n",
       "    .dataframe tbody tr th:only-of-type {\n",
       "        vertical-align: middle;\n",
       "    }\n",
       "\n",
       "    .dataframe tbody tr th {\n",
       "        vertical-align: top;\n",
       "    }\n",
       "\n",
       "    .dataframe thead th {\n",
       "        text-align: right;\n",
       "    }\n",
       "</style>\n",
       "<table border=\"1\" class=\"dataframe\">\n",
       "  <thead>\n",
       "    <tr style=\"text-align: right;\">\n",
       "      <th></th>\n",
       "      <th>Region</th>\n",
       "      <th>Country</th>\n",
       "      <th>State</th>\n",
       "      <th>Month</th>\n",
       "      <th>Day</th>\n",
       "      <th>Year</th>\n",
       "      <th>AvgTemperature</th>\n",
       "    </tr>\n",
       "    <tr>\n",
       "      <th>City</th>\n",
       "      <th></th>\n",
       "      <th></th>\n",
       "      <th></th>\n",
       "      <th></th>\n",
       "      <th></th>\n",
       "      <th></th>\n",
       "      <th></th>\n",
       "    </tr>\n",
       "  </thead>\n",
       "  <tbody>\n",
       "    <tr>\n",
       "      <th>Algiers</th>\n",
       "      <td>Africa</td>\n",
       "      <td>Algeria</td>\n",
       "      <td>NaN</td>\n",
       "      <td>1</td>\n",
       "      <td>1</td>\n",
       "      <td>1995</td>\n",
       "      <td>64.2</td>\n",
       "    </tr>\n",
       "    <tr>\n",
       "      <th>Algiers</th>\n",
       "      <td>Africa</td>\n",
       "      <td>Algeria</td>\n",
       "      <td>NaN</td>\n",
       "      <td>1</td>\n",
       "      <td>2</td>\n",
       "      <td>1995</td>\n",
       "      <td>49.4</td>\n",
       "    </tr>\n",
       "    <tr>\n",
       "      <th>Algiers</th>\n",
       "      <td>Africa</td>\n",
       "      <td>Algeria</td>\n",
       "      <td>NaN</td>\n",
       "      <td>1</td>\n",
       "      <td>3</td>\n",
       "      <td>1995</td>\n",
       "      <td>48.8</td>\n",
       "    </tr>\n",
       "    <tr>\n",
       "      <th>Algiers</th>\n",
       "      <td>Africa</td>\n",
       "      <td>Algeria</td>\n",
       "      <td>NaN</td>\n",
       "      <td>1</td>\n",
       "      <td>4</td>\n",
       "      <td>1995</td>\n",
       "      <td>46.4</td>\n",
       "    </tr>\n",
       "    <tr>\n",
       "      <th>Algiers</th>\n",
       "      <td>Africa</td>\n",
       "      <td>Algeria</td>\n",
       "      <td>NaN</td>\n",
       "      <td>1</td>\n",
       "      <td>5</td>\n",
       "      <td>1995</td>\n",
       "      <td>47.9</td>\n",
       "    </tr>\n",
       "    <tr>\n",
       "      <th>...</th>\n",
       "      <td>...</td>\n",
       "      <td>...</td>\n",
       "      <td>...</td>\n",
       "      <td>...</td>\n",
       "      <td>...</td>\n",
       "      <td>...</td>\n",
       "      <td>...</td>\n",
       "    </tr>\n",
       "    <tr>\n",
       "      <th>San Juan Puerto Rico</th>\n",
       "      <td>North America</td>\n",
       "      <td>US</td>\n",
       "      <td>Additional Territories</td>\n",
       "      <td>7</td>\n",
       "      <td>27</td>\n",
       "      <td>2013</td>\n",
       "      <td>82.4</td>\n",
       "    </tr>\n",
       "    <tr>\n",
       "      <th>San Juan Puerto Rico</th>\n",
       "      <td>North America</td>\n",
       "      <td>US</td>\n",
       "      <td>Additional Territories</td>\n",
       "      <td>7</td>\n",
       "      <td>28</td>\n",
       "      <td>2013</td>\n",
       "      <td>81.6</td>\n",
       "    </tr>\n",
       "    <tr>\n",
       "      <th>San Juan Puerto Rico</th>\n",
       "      <td>North America</td>\n",
       "      <td>US</td>\n",
       "      <td>Additional Territories</td>\n",
       "      <td>7</td>\n",
       "      <td>29</td>\n",
       "      <td>2013</td>\n",
       "      <td>84.2</td>\n",
       "    </tr>\n",
       "    <tr>\n",
       "      <th>San Juan Puerto Rico</th>\n",
       "      <td>North America</td>\n",
       "      <td>US</td>\n",
       "      <td>Additional Territories</td>\n",
       "      <td>7</td>\n",
       "      <td>30</td>\n",
       "      <td>2013</td>\n",
       "      <td>83.8</td>\n",
       "    </tr>\n",
       "    <tr>\n",
       "      <th>San Juan Puerto Rico</th>\n",
       "      <td>North America</td>\n",
       "      <td>US</td>\n",
       "      <td>Additional Territories</td>\n",
       "      <td>7</td>\n",
       "      <td>31</td>\n",
       "      <td>2013</td>\n",
       "      <td>83.6</td>\n",
       "    </tr>\n",
       "  </tbody>\n",
       "</table>\n",
       "<p>2906327 rows × 7 columns</p>\n",
       "</div>"
      ],
      "text/plain": [
       "                             Region  Country                   State  Month  \\\n",
       "City                                                                          \n",
       "Algiers                      Africa  Algeria                     NaN      1   \n",
       "Algiers                      Africa  Algeria                     NaN      1   \n",
       "Algiers                      Africa  Algeria                     NaN      1   \n",
       "Algiers                      Africa  Algeria                     NaN      1   \n",
       "Algiers                      Africa  Algeria                     NaN      1   \n",
       "...                             ...      ...                     ...    ...   \n",
       "San Juan Puerto Rico  North America       US  Additional Territories      7   \n",
       "San Juan Puerto Rico  North America       US  Additional Territories      7   \n",
       "San Juan Puerto Rico  North America       US  Additional Territories      7   \n",
       "San Juan Puerto Rico  North America       US  Additional Territories      7   \n",
       "San Juan Puerto Rico  North America       US  Additional Territories      7   \n",
       "\n",
       "                      Day  Year  AvgTemperature  \n",
       "City                                             \n",
       "Algiers                 1  1995            64.2  \n",
       "Algiers                 2  1995            49.4  \n",
       "Algiers                 3  1995            48.8  \n",
       "Algiers                 4  1995            46.4  \n",
       "Algiers                 5  1995            47.9  \n",
       "...                   ...   ...             ...  \n",
       "San Juan Puerto Rico   27  2013            82.4  \n",
       "San Juan Puerto Rico   28  2013            81.6  \n",
       "San Juan Puerto Rico   29  2013            84.2  \n",
       "San Juan Puerto Rico   30  2013            83.8  \n",
       "San Juan Puerto Rico   31  2013            83.6  \n",
       "\n",
       "[2906327 rows x 7 columns]"
      ]
     },
     "execution_count": 4,
     "metadata": {},
     "output_type": "execute_result"
    }
   ],
   "source": [
    "# Load csv of City Temperatures into pandas dataframe\n",
    "\n",
    "# Defining data types taken from data source\n",
    "data_types = {\n",
    "    'Region': 'str', \n",
    "    'Country': 'str', \n",
    "    'State': 'str', \n",
    "    'City': 'str', \n",
    "    'Month': 'int', \n",
    "    'Day': 'int', \n",
    "    'Year': 'int', \n",
    "    'AvgTemperature': 'float'}\n",
    "\n",
    "file_name = './data/city_temperature.csv'\n",
    "travel_df = pd.read_csv(file_name, dtype=data_types)\n",
    "travel_df.set_index('City') # Setting the index to city since that is the focus of the analysis"
   ]
  },
  {
   "cell_type": "code",
   "execution_count": 5,
   "metadata": {
    "scrolled": false
   },
   "outputs": [
    {
     "data": {
      "text/html": [
       "<div>\n",
       "<style scoped>\n",
       "    .dataframe tbody tr th:only-of-type {\n",
       "        vertical-align: middle;\n",
       "    }\n",
       "\n",
       "    .dataframe tbody tr th {\n",
       "        vertical-align: top;\n",
       "    }\n",
       "\n",
       "    .dataframe thead th {\n",
       "        text-align: right;\n",
       "    }\n",
       "</style>\n",
       "<table border=\"1\" class=\"dataframe\">\n",
       "  <thead>\n",
       "    <tr style=\"text-align: right;\">\n",
       "      <th></th>\n",
       "      <th>Region</th>\n",
       "      <th>Country</th>\n",
       "      <th>State</th>\n",
       "      <th>City</th>\n",
       "      <th>Month</th>\n",
       "      <th>Day</th>\n",
       "      <th>Year</th>\n",
       "      <th>AvgTemperature</th>\n",
       "    </tr>\n",
       "  </thead>\n",
       "  <tbody>\n",
       "    <tr>\n",
       "      <th>0</th>\n",
       "      <td>Africa</td>\n",
       "      <td>Algeria</td>\n",
       "      <td>NaN</td>\n",
       "      <td>Algiers</td>\n",
       "      <td>1</td>\n",
       "      <td>1</td>\n",
       "      <td>1995</td>\n",
       "      <td>64.2</td>\n",
       "    </tr>\n",
       "    <tr>\n",
       "      <th>1</th>\n",
       "      <td>Africa</td>\n",
       "      <td>Algeria</td>\n",
       "      <td>NaN</td>\n",
       "      <td>Algiers</td>\n",
       "      <td>1</td>\n",
       "      <td>2</td>\n",
       "      <td>1995</td>\n",
       "      <td>49.4</td>\n",
       "    </tr>\n",
       "    <tr>\n",
       "      <th>2</th>\n",
       "      <td>Africa</td>\n",
       "      <td>Algeria</td>\n",
       "      <td>NaN</td>\n",
       "      <td>Algiers</td>\n",
       "      <td>1</td>\n",
       "      <td>3</td>\n",
       "      <td>1995</td>\n",
       "      <td>48.8</td>\n",
       "    </tr>\n",
       "    <tr>\n",
       "      <th>3</th>\n",
       "      <td>Africa</td>\n",
       "      <td>Algeria</td>\n",
       "      <td>NaN</td>\n",
       "      <td>Algiers</td>\n",
       "      <td>1</td>\n",
       "      <td>4</td>\n",
       "      <td>1995</td>\n",
       "      <td>46.4</td>\n",
       "    </tr>\n",
       "    <tr>\n",
       "      <th>4</th>\n",
       "      <td>Africa</td>\n",
       "      <td>Algeria</td>\n",
       "      <td>NaN</td>\n",
       "      <td>Algiers</td>\n",
       "      <td>1</td>\n",
       "      <td>5</td>\n",
       "      <td>1995</td>\n",
       "      <td>47.9</td>\n",
       "    </tr>\n",
       "  </tbody>\n",
       "</table>\n",
       "</div>"
      ],
      "text/plain": [
       "   Region  Country State     City  Month  Day  Year  AvgTemperature\n",
       "0  Africa  Algeria   NaN  Algiers      1    1  1995            64.2\n",
       "1  Africa  Algeria   NaN  Algiers      1    2  1995            49.4\n",
       "2  Africa  Algeria   NaN  Algiers      1    3  1995            48.8\n",
       "3  Africa  Algeria   NaN  Algiers      1    4  1995            46.4\n",
       "4  Africa  Algeria   NaN  Algiers      1    5  1995            47.9"
      ]
     },
     "execution_count": 5,
     "metadata": {},
     "output_type": "execute_result"
    }
   ],
   "source": [
    "# Showcase data head\n",
    "travel_df.head()"
   ]
  },
  {
   "cell_type": "markdown",
   "metadata": {},
   "source": [
    "### Data Cleaning\n",
    "For the purpose of this example I will assume the data has been cleaned. I will check for missing values however."
   ]
  },
  {
   "cell_type": "code",
   "execution_count": 6,
   "metadata": {
    "scrolled": true
   },
   "outputs": [
    {
     "name": "stdout",
     "output_type": "stream",
     "text": [
      "Missing values distribution: \n",
      "Region            0.000000\n",
      "Country           0.000000\n",
      "State             0.499252\n",
      "City              0.000000\n",
      "Month             0.000000\n",
      "Day               0.000000\n",
      "Year              0.000000\n",
      "AvgTemperature    0.000000\n",
      "dtype: float64\n",
      "\n"
     ]
    }
   ],
   "source": [
    "# 6. Examine missing values\n",
    "print(\"Missing values distribution: \")\n",
    "print(travel_df.isnull().mean())\n",
    "print(\"\")"
   ]
  },
  {
   "cell_type": "markdown",
   "metadata": {},
   "source": [
    "Conclusion: State is missing. Thus any analysis that is at the state level should not include null state values."
   ]
  },
  {
   "cell_type": "markdown",
   "metadata": {},
   "source": [
    "### Exploratory Data Analysis\n",
    "This will include:\n",
    "- Calculating basic descriptive statistics such as the mean, the median, and the mode\n",
    "- Creating a range of plots including histograms, scatter plots, and distribution curves to identify trends in the data\n",
    "- Other interactive visualizations to focus on a specific segments of data"
   ]
  },
  {
   "cell_type": "code",
   "execution_count": 7,
   "metadata": {},
   "outputs": [],
   "source": [
    "# Get the temperatures into a numpy array for analysis \n",
    "city_temperatures = travel_df['AvgTemperature'].to_numpy()"
   ]
  },
  {
   "cell_type": "code",
   "execution_count": 8,
   "metadata": {},
   "outputs": [
    {
     "name": "stdout",
     "output_type": "stream",
     "text": [
      "The mean temperature is 56.0 degrees fahrenheit\n",
      "The median temperature is 62.5 degrees fahrenheit\n",
      "The mode temperature is -99.0 degrees fahrenheit\n"
     ]
    }
   ],
   "source": [
    "# Find mean, median, and mode\n",
    "temp_mean = np.round(np.mean(city_temperatures),1)\n",
    "temp_median = np.round(np.median(city_temperatures),1)\n",
    "temp_mode = np.round(st.mode(city_temperatures)[0][0],1)\n",
    "\n",
    "print(f'The mean temperature is {temp_mean} degrees fahrenheit')\n",
    "print(f'The median temperature is {temp_median} degrees fahrenheit')\n",
    "print(f'The mode temperature is {temp_mode} degrees fahrenheit')"
   ]
  },
  {
   "cell_type": "markdown",
   "metadata": {},
   "source": [
    "**The mode being -99 is suspicious**"
   ]
  },
  {
   "cell_type": "code",
   "execution_count": 9,
   "metadata": {},
   "outputs": [
    {
     "name": "stdout",
     "output_type": "stream",
     "text": [
      "This is the 25% quartile\": 45.8\n",
      "This is the 75% quartile: 75.5\n",
      "This is the IQR: 29.7\n"
     ]
    },
    {
     "ename": "NameError",
     "evalue": "name 'minimum' is not defined",
     "output_type": "error",
     "traceback": [
      "\u001b[0;31m---------------------------------------------------------------------------\u001b[0m",
      "\u001b[0;31mNameError\u001b[0m                                 Traceback (most recent call last)",
      "\u001b[0;32m<ipython-input-9-f061cba59555>\u001b[0m in \u001b[0;36m<module>\u001b[0;34m\u001b[0m\n\u001b[1;32m      7\u001b[0m \u001b[0mprint\u001b[0m\u001b[0;34m(\u001b[0m\u001b[0;34mf'This is the 75% quartile: {Q3}'\u001b[0m\u001b[0;34m)\u001b[0m\u001b[0;34m\u001b[0m\u001b[0;34m\u001b[0m\u001b[0m\n\u001b[1;32m      8\u001b[0m \u001b[0mprint\u001b[0m\u001b[0;34m(\u001b[0m\u001b[0;34mf'This is the IQR: {IQR}'\u001b[0m\u001b[0;34m)\u001b[0m\u001b[0;34m\u001b[0m\u001b[0;34m\u001b[0m\u001b[0m\n\u001b[0;32m----> 9\u001b[0;31m \u001b[0mprint\u001b[0m\u001b[0;34m(\u001b[0m\u001b[0;34mf'This is the minimum: {minimum}'\u001b[0m\u001b[0;34m)\u001b[0m\u001b[0;34m\u001b[0m\u001b[0;34m\u001b[0m\u001b[0m\n\u001b[0m\u001b[1;32m     10\u001b[0m \u001b[0mprint\u001b[0m\u001b[0;34m(\u001b[0m\u001b[0;34mf'This is the maximim: {maximum}'\u001b[0m\u001b[0;34m)\u001b[0m\u001b[0;34m\u001b[0m\u001b[0;34m\u001b[0m\u001b[0m\n\u001b[1;32m     11\u001b[0m \u001b[0;34m\u001b[0m\u001b[0m\n",
      "\u001b[0;31mNameError\u001b[0m: name 'minimum' is not defined"
     ]
    }
   ],
   "source": [
    "Q1 = np.percentile(city_temperatures, 25)\n",
    "Q3 = np.percentile(city_temperatures, 75)\n",
    "IQR = np.round(Q3 - Q1,1)\n",
    "temp_min = np.round(Q1 - 1.5 * IQR)\n",
    "temp_max = np.round(Q3 + 1.5 * IQR)\n",
    "print(f'This is the 25% quartile\": {Q1}')\n",
    "print(f'This is the 75% quartile: {Q3}')\n",
    "print(f'This is the IQR: {IQR}')\n",
    "print(f'This is the minimum: {minimum}')\n",
    "print(f'This is the maximim: {maximum}')\n",
    "\n",
    "boxplot = sns.boxplot(data=travel_df['AvgTemperature'])"
   ]
  },
  {
   "cell_type": "markdown",
   "metadata": {},
   "source": [
    "### Investigating Outliers\n",
    "we seem to have a significant number of outliers in this data set. Let's check out the data and see what we want to do with it. Some possibilities include:\n",
    "- Data has been included in °C not °F so we may want to exclude some data\n",
    "- Since the data is collected based on cities, the few cities in cold region may be considered outside a normal distribution\n",
    "- Bad data could be included and we way want to clean it"
   ]
  },
  {
   "cell_type": "code",
   "execution_count": 10,
   "metadata": {},
   "outputs": [
    {
     "data": {
      "text/html": [
       "<div>\n",
       "<style scoped>\n",
       "    .dataframe tbody tr th:only-of-type {\n",
       "        vertical-align: middle;\n",
       "    }\n",
       "\n",
       "    .dataframe tbody tr th {\n",
       "        vertical-align: top;\n",
       "    }\n",
       "\n",
       "    .dataframe thead th {\n",
       "        text-align: right;\n",
       "    }\n",
       "</style>\n",
       "<table border=\"1\" class=\"dataframe\">\n",
       "  <thead>\n",
       "    <tr style=\"text-align: right;\">\n",
       "      <th></th>\n",
       "      <th>Region</th>\n",
       "      <th>Country</th>\n",
       "      <th>State</th>\n",
       "      <th>City</th>\n",
       "      <th>Month</th>\n",
       "      <th>Day</th>\n",
       "      <th>Year</th>\n",
       "      <th>AvgTemperature</th>\n",
       "    </tr>\n",
       "  </thead>\n",
       "  <tbody>\n",
       "    <tr>\n",
       "      <th>294372</th>\n",
       "      <td>Asia</td>\n",
       "      <td>China</td>\n",
       "      <td>NaN</td>\n",
       "      <td>Shenyang</td>\n",
       "      <td>1</td>\n",
       "      <td>16</td>\n",
       "      <td>1996</td>\n",
       "      <td>-1.4</td>\n",
       "    </tr>\n",
       "    <tr>\n",
       "      <th>294724</th>\n",
       "      <td>Asia</td>\n",
       "      <td>China</td>\n",
       "      <td>NaN</td>\n",
       "      <td>Shenyang</td>\n",
       "      <td>1</td>\n",
       "      <td>2</td>\n",
       "      <td>1997</td>\n",
       "      <td>-5.6</td>\n",
       "    </tr>\n",
       "    <tr>\n",
       "      <th>294725</th>\n",
       "      <td>Asia</td>\n",
       "      <td>China</td>\n",
       "      <td>NaN</td>\n",
       "      <td>Shenyang</td>\n",
       "      <td>1</td>\n",
       "      <td>3</td>\n",
       "      <td>1997</td>\n",
       "      <td>-4.2</td>\n",
       "    </tr>\n",
       "    <tr>\n",
       "      <th>294727</th>\n",
       "      <td>Asia</td>\n",
       "      <td>China</td>\n",
       "      <td>NaN</td>\n",
       "      <td>Shenyang</td>\n",
       "      <td>1</td>\n",
       "      <td>5</td>\n",
       "      <td>1997</td>\n",
       "      <td>-0.9</td>\n",
       "    </tr>\n",
       "    <tr>\n",
       "      <th>294728</th>\n",
       "      <td>Asia</td>\n",
       "      <td>China</td>\n",
       "      <td>NaN</td>\n",
       "      <td>Shenyang</td>\n",
       "      <td>1</td>\n",
       "      <td>6</td>\n",
       "      <td>1997</td>\n",
       "      <td>-2.9</td>\n",
       "    </tr>\n",
       "  </tbody>\n",
       "</table>\n",
       "</div>"
      ],
      "text/plain": [
       "       Region Country State      City  Month  Day  Year  AvgTemperature\n",
       "294372   Asia   China   NaN  Shenyang      1   16  1996            -1.4\n",
       "294724   Asia   China   NaN  Shenyang      1    2  1997            -5.6\n",
       "294725   Asia   China   NaN  Shenyang      1    3  1997            -4.2\n",
       "294727   Asia   China   NaN  Shenyang      1    5  1997            -0.9\n",
       "294728   Asia   China   NaN  Shenyang      1    6  1997            -2.9"
      ]
     },
     "execution_count": 10,
     "metadata": {},
     "output_type": "execute_result"
    }
   ],
   "source": [
    "travel_temp_outliers = travel_df[travel_df['AvgTemperature'] < temp_min] \n",
    "travel_temp_outliers = travel_temp_outliers[travel_temp_outliers['AvgTemperature'] > -99] # Remove the -99 values\n",
    "travel_temp_outliers.head()"
   ]
  },
  {
   "cell_type": "markdown",
   "metadata": {},
   "source": [
    "Conclusion: We should remove the -99 values but keep the rest"
   ]
  },
  {
   "cell_type": "code",
   "execution_count": 24,
   "metadata": {},
   "outputs": [
    {
     "data": {
      "image/png": "[encoded data removed]",
      "text/plain": [
       "<Figure size 842.4x595.44 with 1 Axes>"
      ]
     },
     "metadata": {},
     "output_type": "display_data"
    }
   ],
   "source": [
    "travel_df_cleaned = travel_df[travel_df['AvgTemperature'] != -99] \n",
    "boxplot = sns.boxplot(data=travel_df_cleaned['AvgTemperature'])"
   ]
  },
  {
   "cell_type": "markdown",
   "metadata": {},
   "source": [
    "### Cleaned Data Exploration"
   ]
  },
  {
   "cell_type": "code",
   "execution_count": 25,
   "metadata": {},
   "outputs": [
    {
     "data": {
      "text/html": [
       "<div>\n",
       "<style scoped>\n",
       "    .dataframe tbody tr th:only-of-type {\n",
       "        vertical-align: middle;\n",
       "    }\n",
       "\n",
       "    .dataframe tbody tr th {\n",
       "        vertical-align: top;\n",
       "    }\n",
       "\n",
       "    .dataframe thead th {\n",
       "        text-align: right;\n",
       "    }\n",
       "</style>\n",
       "<table border=\"1\" class=\"dataframe\">\n",
       "  <thead>\n",
       "    <tr style=\"text-align: right;\">\n",
       "      <th></th>\n",
       "      <th>Region</th>\n",
       "      <th>Country</th>\n",
       "      <th>State</th>\n",
       "      <th>City</th>\n",
       "      <th>Month</th>\n",
       "      <th>Day</th>\n",
       "      <th>Year</th>\n",
       "      <th>DateTime</th>\n",
       "      <th>AvgTemperature</th>\n",
       "    </tr>\n",
       "  </thead>\n",
       "  <tbody>\n",
       "    <tr>\n",
       "      <th>0</th>\n",
       "      <td>Africa</td>\n",
       "      <td>Algeria</td>\n",
       "      <td>NaN</td>\n",
       "      <td>Algiers</td>\n",
       "      <td>1</td>\n",
       "      <td>1</td>\n",
       "      <td>1995</td>\n",
       "      <td>1995-01-01</td>\n",
       "      <td>64.2</td>\n",
       "    </tr>\n",
       "    <tr>\n",
       "      <th>1</th>\n",
       "      <td>Africa</td>\n",
       "      <td>Algeria</td>\n",
       "      <td>NaN</td>\n",
       "      <td>Algiers</td>\n",
       "      <td>1</td>\n",
       "      <td>2</td>\n",
       "      <td>1995</td>\n",
       "      <td>1995-01-02</td>\n",
       "      <td>49.4</td>\n",
       "    </tr>\n",
       "    <tr>\n",
       "      <th>2</th>\n",
       "      <td>Africa</td>\n",
       "      <td>Algeria</td>\n",
       "      <td>NaN</td>\n",
       "      <td>Algiers</td>\n",
       "      <td>1</td>\n",
       "      <td>3</td>\n",
       "      <td>1995</td>\n",
       "      <td>1995-01-03</td>\n",
       "      <td>48.8</td>\n",
       "    </tr>\n",
       "    <tr>\n",
       "      <th>3</th>\n",
       "      <td>Africa</td>\n",
       "      <td>Algeria</td>\n",
       "      <td>NaN</td>\n",
       "      <td>Algiers</td>\n",
       "      <td>1</td>\n",
       "      <td>4</td>\n",
       "      <td>1995</td>\n",
       "      <td>1995-01-04</td>\n",
       "      <td>46.4</td>\n",
       "    </tr>\n",
       "    <tr>\n",
       "      <th>4</th>\n",
       "      <td>Africa</td>\n",
       "      <td>Algeria</td>\n",
       "      <td>NaN</td>\n",
       "      <td>Algiers</td>\n",
       "      <td>1</td>\n",
       "      <td>5</td>\n",
       "      <td>1995</td>\n",
       "      <td>1995-01-05</td>\n",
       "      <td>47.9</td>\n",
       "    </tr>\n",
       "  </tbody>\n",
       "</table>\n",
       "</div>"
      ],
      "text/plain": [
       "   Region  Country State     City  Month  Day  Year   DateTime  AvgTemperature\n",
       "0  Africa  Algeria   NaN  Algiers      1    1  1995 1995-01-01            64.2\n",
       "1  Africa  Algeria   NaN  Algiers      1    2  1995 1995-01-02            49.4\n",
       "2  Africa  Algeria   NaN  Algiers      1    3  1995 1995-01-03            48.8\n",
       "3  Africa  Algeria   NaN  Algiers      1    4  1995 1995-01-04            46.4\n",
       "4  Africa  Algeria   NaN  Algiers      1    5  1995 1995-01-05            47.9"
      ]
     },
     "execution_count": 25,
     "metadata": {},
     "output_type": "execute_result"
    }
   ],
   "source": [
    "# Adding a new datetime column\n",
    "\n",
    "date_time_array = pd.to_datetime(travel_df_cleaned.loc[:, ('Year', 'Month','Day')])\n",
    "\n",
    "travel_df_cleaned.insert(7, \"DateTime\", date_time_array, True)\n",
    "\n",
    "travel_df_cleaned.head()"
   ]
  },
  {
   "cell_type": "code",
   "execution_count": 36,
   "metadata": {},
   "outputs": [
    {
     "data": {
      "image/png": "[encoded data removed]",
      "text/plain": [
       "<Figure size 842.4x595.44 with 1 Axes>"
      ]
     },
     "metadata": {},
     "output_type": "display_data"
    }
   ],
   "source": [
    "# Chart over time for a single city, let's use Austin, TX\n",
    "\n",
    "austin_tx_temps = travel_df_cleaned.loc[(travel_df_cleaned['City'] == 'Austin') \n",
    "                                        & (travel_df_cleaned['State'] == 'Texas') ]\n",
    "\n",
    "\n",
    "austin_plot = sns.lineplot(x=\"DateTime\", y=\"AvgTemperature\",data=austin_tx_temps)\n"
   ]
  }
 ],
 "metadata": {
  "kernelspec": {
   "display_name": "Python 3",
   "language": "python",
   "name": "python3"
  },
  "language_info": {
   "codemirror_mode": {
    "name": "ipython",
    "version": 3
   },
   "file_extension": ".py",
   "mimetype": "text/x-python",
   "name": "python",
   "nbconvert_exporter": "python",
   "pygments_lexer": "ipython3",
   "version": "3.8.5"
  }
 },
 "nbformat": 4,
 "nbformat_minor": 4
}
